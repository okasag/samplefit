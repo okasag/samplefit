{
 "cells": [
  {
   "cell_type": "markdown",
   "id": "8f16d964-5835-452e-9618-dcc7a684fcf1",
   "metadata": {},
   "source": [
    "# Replication Notebook for Illustration: Sample Fit Reliability"
   ]
  },
  {
   "cell_type": "markdown",
   "id": "0c7764f8-c835-4961-9880-411327870bb7",
   "metadata": {},
   "source": [
    "Gabriel Okasa and Kenneth A. Younge"
   ]
  },
  {
   "cell_type": "code",
   "execution_count": null,
   "id": "a77dd5c7-965a-4be4-bda8-a870ecc1cbc9",
   "metadata": {},
   "outputs": [],
   "source": [
    "# get current working directory\n",
    "path = %pwd"
   ]
  },
  {
   "cell_type": "markdown",
   "id": "738f5167-dd7b-4262-b863-c293de708954",
   "metadata": {},
   "source": [
    "## Libraries"
   ]
  },
  {
   "cell_type": "code",
   "execution_count": null,
   "id": "9f782247-c336-4102-b765-398e805fbb92",
   "metadata": {},
   "outputs": [],
   "source": [
    "# Python version 3.8.8\n",
    "import samplefit as sf # version 0.3.1\n",
    "import statsmodels.api as sm # version 0.12.2\n",
    "import pandas as pd # version 1.3.5\n",
    "import numpy as np # version 1.22.0\n",
    "import matplotlib as mpl # version 3.4.2\n",
    "import matplotlib.pyplot as plt\n",
    "\n",
    "from scipy import stats # version 1.7.2\n",
    "\n",
    "# turn off future warnings\n",
    "import warnings\n",
    "warnings.simplefilter(action='ignore', category=FutureWarning)"
   ]
  },
  {
   "cell_type": "markdown",
   "id": "93a3fcea-47fb-46b1-9a4c-50e18ba29b79",
   "metadata": {},
   "source": [
    "## Boston Housing Dataset"
   ]
  },
  {
   "cell_type": "code",
   "execution_count": null,
   "id": "7c7ca731-5262-49d3-b82b-37f48f675452",
   "metadata": {},
   "outputs": [],
   "source": [
    "# load data from statsmodels\n",
    "boston = sm.datasets.get_rdataset(\"Boston\", \"MASS\")\n",
    "Y = boston.data['crim'] # crime rate\n",
    "X = boston.data['lstat'] # lower status\n",
    "X = sm.add_constant(X)"
   ]
  },
  {
   "cell_type": "code",
   "execution_count": null,
   "id": "85f8ff5f-dd5b-4466-bb25-d4bd46ebf91d",
   "metadata": {},
   "outputs": [],
   "source": [
    "# latex output for descriptives\n",
    "print(round(boston.data[['crim', 'lstat']].describe(), 2).T.to_latex(caption='Descriptive Statistics for the Boston Dataset'))"
   ]
  },
  {
   "cell_type": "code",
   "execution_count": null,
   "id": "a82e96b1-04e9-4145-bb80-7603e2c3ae9e",
   "metadata": {},
   "outputs": [],
   "source": [
    "# check plot\n",
    "fig, ax = plt.subplots(nrows=1, ncols=1, figsize = (10, 5), dpi=300) # define the plot layout\n",
    "# plot ols fit\n",
    "ax.scatter(x=boston.data['lstat'], y=boston.data['crim'], color='grey', s=30)\n",
    "ax.title.set_text('Crime Rate by Social Status')\n",
    "ax.set_xlabel('% Lower Status of the Population')\n",
    "ax.set_ylabel('Per Capita Crime Rate')\n",
    "#plt.xticks([-0.5, 0, 1, 1.5], ['', 'Control', 'Treated', ''])\n",
    "plt.show()\n",
    "fig.savefig(path + '/figures/scatter_boston.png', bbox_inches='tight')"
   ]
  },
  {
   "cell_type": "markdown",
   "id": "d22f097a-5b3b-4126-ba6e-ef69aa4872bf",
   "metadata": {},
   "source": [
    "### Assess Model Fit"
   ]
  },
  {
   "cell_type": "code",
   "execution_count": null,
   "id": "0dade2aa-95fa-4c06-a5db-8c0042300ddc",
   "metadata": {},
   "outputs": [],
   "source": [
    "model = sm.OLS(endog=Y, exog=X)\n",
    "model_fit = model.fit()\n",
    "model_fit.summary()"
   ]
  },
  {
   "cell_type": "code",
   "execution_count": null,
   "id": "8658f34a-07fd-4948-b546-5dc88f6b5a66",
   "metadata": {},
   "outputs": [],
   "source": [
    "# get latex\n",
    "pd.set_option('display.float_format', '{:.4f}'.format)\n",
    "print(model_fit.summary2().tables[1].to_latex())"
   ]
  },
  {
   "cell_type": "markdown",
   "id": "ee83b16e-4e57-4c51-8499-075984996f60",
   "metadata": {},
   "source": [
    "### Assess Sample Reliability"
   ]
  },
  {
   "cell_type": "code",
   "execution_count": null,
   "id": "937fb78a-1aec-408e-a951-e4667a61739b",
   "metadata": {},
   "outputs": [],
   "source": [
    "sample = sf.SFR(linear_model=model, random_state=0)\n",
    "sample_scores = sample.score()\n",
    "sample_scores.plot(yname='Per Capita Crime Rate', xname='lstat', xlabel='% Lower Status of the Population', dpi=300, title='SFR: Scoring',\n",
    "                   path=path+'/figures/', fname='sfr_scores_boston.png')"
   ]
  },
  {
   "cell_type": "markdown",
   "id": "f24b37dd-ebaa-4245-b92b-4359bdea0d9b",
   "metadata": {},
   "source": [
    "### Assess Sample Sensitivity"
   ]
  },
  {
   "cell_type": "code",
   "execution_count": null,
   "id": "00cfff70-6cb5-47da-976f-0a385865e0f7",
   "metadata": {},
   "outputs": [],
   "source": [
    "sample_annealing = sample.anneal(share=0.1, n_boot=1000)\n",
    "sample_annealing.plot(xname='lstat', xlabel='% Lower Status of the Population', dpi=300, ylim=[0.125,0.75], title='SFR: Annealing',\n",
    "                      path=path+'/figures/', fname='sfr_annealing_boston.png')"
   ]
  },
  {
   "cell_type": "markdown",
   "id": "48a03e97-c2f5-4de3-8298-b55622d1420a",
   "metadata": {},
   "source": [
    "### Assess Sample Fit"
   ]
  },
  {
   "cell_type": "code",
   "execution_count": null,
   "id": "21f6bbf6-4118-4529-afd8-c5ffaab4a22c",
   "metadata": {},
   "outputs": [],
   "source": [
    "sample_fit = sample.fit(n_boot=1000)\n",
    "sample_fit_summary = sample_fit.summary(get_table=True)"
   ]
  },
  {
   "cell_type": "code",
   "execution_count": null,
   "id": "eae508df-0257-497f-a916-21269ac737df",
   "metadata": {},
   "outputs": [],
   "source": [
    "# get latex\n",
    "pd.set_option('display.float_format', '{:.4f}'.format)\n",
    "print(sample_fit_summary.to_latex(caption='SFR: Fitting'))\n",
    "# save\n",
    "sample_fit_summary.to_csv(path+'/results/boston_results.csv', index=False)"
   ]
  },
  {
   "cell_type": "markdown",
   "id": "9ac4514a-757f-4e6d-a11c-550ae6deadcd",
   "metadata": {},
   "source": [
    "## Summary"
   ]
  },
  {
   "cell_type": "code",
   "execution_count": null,
   "id": "0c741dd7-eb9f-44c5-bac4-527f45e16c3f",
   "metadata": {},
   "outputs": [],
   "source": [
    "# get latex\n",
    "pd.set_option('display.float_format', '{:.4f}'.format)\n",
    "summary_all = pd.concat([model_fit.summary2().tables[1].loc[['lstat'], :].rename(index={'lstat': 'OLS'}), sample_fit_summary.loc[['lstat'], :].rename(columns={'coef': 'Coef.', 'std err': 'Std.Err.'}, index={'lstat': 'SFR'})])\n",
    "print(summary_all.to_latex(caption='Fitting - Boston Housing Data'))\n",
    "# save\n",
    "summary_all.to_csv(path+'/results/all_boston_results.csv', index=False)"
   ]
  },
  {
   "cell_type": "code",
   "execution_count": null,
   "id": "f54d0d33-a864-417d-a661-7242dfa4a51d",
   "metadata": {},
   "outputs": [],
   "source": []
  }
 ],
 "metadata": {
  "kernelspec": {
   "display_name": "Python 3 (ipykernel)",
   "language": "python",
   "name": "python3"
  },
  "language_info": {
   "codemirror_mode": {
    "name": "ipython",
    "version": 3
   },
   "file_extension": ".py",
   "mimetype": "text/x-python",
   "name": "python",
   "nbconvert_exporter": "python",
   "pygments_lexer": "ipython3",
   "version": "3.8.8"
  }
 },
 "nbformat": 4,
 "nbformat_minor": 5
}
