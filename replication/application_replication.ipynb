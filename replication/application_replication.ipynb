{
 "cells": [
  {
   "cell_type": "markdown",
   "id": "8f16d964-5835-452e-9618-dcc7a684fcf1",
   "metadata": {},
   "source": [
    "# Replication Notebook for Applications: Sample Fit Reliability"
   ]
  },
  {
   "cell_type": "markdown",
   "id": "84f7a252-19f6-4129-ae64-1bdb052cc850",
   "metadata": {},
   "source": [
    "Gabriel Okasa and Kenneth A. Younge"
   ]
  },
  {
   "cell_type": "code",
   "execution_count": null,
   "id": "a7046d10-477e-4bb6-8b6d-bdd730418d64",
   "metadata": {},
   "outputs": [],
   "source": [
    "# get current working directory\n",
    "path = %pwd"
   ]
  },
  {
   "cell_type": "markdown",
   "id": "738f5167-dd7b-4262-b863-c293de708954",
   "metadata": {},
   "source": [
    "## Libraries"
   ]
  },
  {
   "cell_type": "code",
   "execution_count": null,
   "id": "9f782247-c336-4102-b765-398e805fbb92",
   "metadata": {},
   "outputs": [],
   "source": [
    "# Python version 3.8.8\n",
    "import statsmodels # version 0.12.2\n",
    "\n",
    "import samplefit as sf # version 0.3.1\n",
    "import statsmodels.api as sm\n",
    "import pandas as pd # version 1.3.5\n",
    "import numpy as np # version 1.22.0\n",
    "import matplotlib.pyplot as plt # version 3.4.2\n",
    "\n",
    "from scipy import stats # version 1.7.2\n",
    "from sklearn.linear_model import RANSACRegressor # version 1.1.1\n",
    "\n",
    "# turn off future warnings\n",
    "import warnings\n",
    "warnings.simplefilter(action='ignore', category=FutureWarning)\n",
    "# set pandas printing options\n",
    "pd.set_option('display.float_format', '{:.4f}'.format)"
   ]
  },
  {
   "cell_type": "markdown",
   "id": "799e3dfa-91f6-4539-9452-0ae8588881ff",
   "metadata": {
    "tags": []
   },
   "source": [
    "## Applications"
   ]
  },
  {
   "cell_type": "markdown",
   "id": "5ec13e23-e9e4-4b2d-ba3c-f47c08f0bae6",
   "metadata": {},
   "source": [
    "### Labor Data"
   ]
  },
  {
   "cell_type": "code",
   "execution_count": null,
   "id": "0f058f91-ab16-49d4-8732-ee2dc861f890",
   "metadata": {},
   "outputs": [],
   "source": [
    "# load lalonde data from NSW RCT\n",
    "data = pd.read_csv(path+'/data/data_lalonde.csv')\n",
    "# save data for later plotting\n",
    "data_lalonde = data.copy()"
   ]
  },
  {
   "cell_type": "code",
   "execution_count": null,
   "id": "d3048afd-c3e2-4748-9ff3-210451cf125e",
   "metadata": {},
   "outputs": [],
   "source": [
    "# latex output for descriptives\n",
    "print(round(data.describe(), 2).T.to_latex(caption='Descriptive Statistics for the Labor Data'))"
   ]
  },
  {
   "cell_type": "code",
   "execution_count": null,
   "id": "db26cdb0-ac3b-4327-9e2b-f4b5826bebdf",
   "metadata": {},
   "outputs": [],
   "source": [
    "# check plot\n",
    "fig, ax = plt.subplots(nrows=1, ncols=1, figsize = (10, 5), dpi=300) # define the plot layout\n",
    "# plot ols fit\n",
    "np.random.seed(0)\n",
    "ax.scatter(x=data.treatment + np.random.uniform(-0.1, 0.1, len(data.re78)), y=data.re78, color='grey', s=30)\n",
    "ax.title.set_text('Real Earnings by Treatment Status')\n",
    "ax.set_xlabel('Training Program')\n",
    "ax.set_ylabel('Real Earnings')\n",
    "plt.xticks([-0.5, 0, 1, 1.5], ['', 'Control', 'Treated', ''])\n",
    "plt.show()\n",
    "fig.savefig(path+'/figures/scatter_earnings.png', bbox_inches='tight')"
   ]
  },
  {
   "cell_type": "code",
   "execution_count": null,
   "id": "67ec25eb-9ee9-4bea-9168-db6fd24cacad",
   "metadata": {},
   "outputs": [],
   "source": [
    "# run OLS, HUBER, RANSAC, SFR\n",
    "\n",
    "# specify model\n",
    "model = sm.OLS(endog=data.re78, exog=pd.DataFrame(sm.add_constant(data.treatment)))\n",
    "df = data.shape[0] - 2\n",
    "\n",
    "# ols fit\n",
    "ols_fit = model.fit()\n",
    "ols_param = ols_fit.params[1]\n",
    "ols_se = ols_fit.bse[1]\n",
    "ols_t = ols_param/ols_se\n",
    "ols_p = stats.t.sf(np.abs(ols_t), df) * 2\n",
    "ols_ci_up = ols_param + stats.t.ppf(1-0.05/2, df) * ols_se\n",
    "ols_ci_down = ols_param - stats.t.ppf(1-0.05/2, df) * ols_se\n",
    "# get predictions for ols\n",
    "ols_pred = pd.DataFrame(ols_fit.predict(sm.add_constant(data.treatment)), index=data.index, columns=['predictions'])\n",
    "\n",
    "# fit huber\n",
    "huber_fit = sm.RLM(endog=data.re78, exog=pd.DataFrame(sm.add_constant(data.treatment)), M=sm.robust.norms.HuberT()).fit()\n",
    "huber_param = huber_fit.params[1]\n",
    "huber_se = huber_fit.bse[1]\n",
    "huber_t = huber_param/huber_se\n",
    "huber_p = stats.t.sf(np.abs(huber_t), df) * 2\n",
    "huber_ci_up = huber_param + stats.t.ppf(1-0.05/2, df) * huber_se\n",
    "huber_ci_down = huber_param - stats.t.ppf(1-0.05/2, df) * huber_se\n",
    "# get predictions for huber\n",
    "huber_pred = pd.DataFrame(huber_fit.predict(sm.add_constant(data.treatment)), index=data.index, columns=['predictions'])\n",
    "\n",
    "# fit RANSAC\n",
    "ransac_fit = RANSACRegressor(random_state=0)\n",
    "ransac_fit.fit(X=pd.DataFrame(data.treatment), y=data.re78) # intercept is added by default in sklearn\n",
    "ransac_param = ransac_fit.estimator_.coef_[0]\n",
    "# get standard error for RANSAC via bootstrapping\n",
    "ransac_param_boot = []\n",
    "# loop over\n",
    "for boot_idx in range(1000):\n",
    "    # set seed\n",
    "    np.random.seed(boot_idx)\n",
    "    # get in bag indices\n",
    "    in_idx = np.random.choice(np.arange(data.shape[0], dtype=int), size=data.shape[0], replace=True)\n",
    "    # in bag observations\n",
    "    endog_in = data.re78[in_idx]\n",
    "    exog_in = data.treatment[in_idx]\n",
    "    # estimate ransac\n",
    "    ransac_fit_boot = RANSACRegressor(random_state=boot_idx)\n",
    "    ransac_fit_boot.fit(X=pd.DataFrame(exog_in), y=endog_in) # intercept is added by default in sklearn\n",
    "    ransac_param_boot.append(ransac_fit_boot.estimator_.coef_[0])\n",
    "# inference\n",
    "ransac_se = np.std(ransac_param_boot)\n",
    "ransac_t = ransac_param/ransac_se\n",
    "ransac_p = stats.t.sf(np.abs(ransac_t), df) * 2\n",
    "ransac_ci_up = ransac_param + stats.t.ppf(1-0.05/2, df) * ransac_se\n",
    "ransac_ci_down = ransac_param - stats.t.ppf(1-0.05/2, df) * ransac_se\n",
    "# get predictions from ransac\n",
    "ransac_pred = pd.DataFrame(ransac_fit.predict(X=pd.DataFrame(data.treatment)), index=data.index, columns=['predictions'])\n",
    "\n",
    "# fit from the sfr\n",
    "sfr = sf.SFR(linear_model=model, random_state=0)\n",
    "sfr_scores = sfr.score()\n",
    "sfr_fit = sfr.fit(n_boot=1000)\n",
    "sfr_param = sfr_fit.params[1]\n",
    "sfr_se = sfr_fit.stand_err[1]\n",
    "sfr_t = sfr_param/sfr_se\n",
    "sfr_p = stats.t.sf(np.abs(sfr_t), df) * 2\n",
    "sfr_ci_up = sfr_param + stats.t.ppf(1-0.05/2, df) * sfr_se\n",
    "sfr_ci_down = sfr_param - stats.t.ppf(1-0.05/2, df) * sfr_se\n",
    "# get predictions for sfr\n",
    "sfr_pred = pd.DataFrame(sfr_fit.fittedvalues, index=data.index, columns=['predictions'])"
   ]
  },
  {
   "cell_type": "code",
   "execution_count": null,
   "id": "148d91b0-9563-4606-af12-036dda82acea",
   "metadata": {},
   "outputs": [],
   "source": [
    "# save scores\n",
    "scores_lalonde = sfr_scores.scores.copy()"
   ]
  },
  {
   "cell_type": "code",
   "execution_count": null,
   "id": "57bf84d3-7cc8-4e6d-a033-71495ab2a93c",
   "metadata": {},
   "outputs": [],
   "source": [
    "# combine results\n",
    "ols_results = pd.DataFrame({'Coef.': ols_param, 'Std.Err.': ols_se, 't': ols_t, 'P>|t|': ols_p, '[0.025': ols_ci_down, '0.975]': ols_ci_up}, index=['OLS'])\n",
    "huber_results = pd.DataFrame({'Coef.': huber_param, 'Std.Err.': huber_se, 't': huber_t, 'P>|t|': huber_p, '[0.025': huber_ci_down, '0.975]': huber_ci_up}, index=['HUBER'])\n",
    "ransac_results = pd.DataFrame({'Coef.': ransac_param, 'Std.Err.': ransac_se, 't': ransac_t, 'P>|t|': ransac_p, '[0.025': ransac_ci_down, '0.975]': ransac_ci_up}, index=['RANSAC'])\n",
    "sfr_results = pd.DataFrame({'Coef.': sfr_param, 'Std.Err.': sfr_se, 't': sfr_t, 'P>|t|': sfr_p, '[0.025': sfr_ci_down, '0.975]': sfr_ci_up}, index=['SFR'])"
   ]
  },
  {
   "cell_type": "code",
   "execution_count": null,
   "id": "25bc4d9c-9fda-4a47-8ec5-4f3f651f20d2",
   "metadata": {},
   "outputs": [],
   "source": [
    "# get latex\n",
    "app1_all_results = pd.concat([ols_results, huber_results, ransac_results, sfr_results])\n",
    "print(app1_all_results.to_latex(caption='Comparison of The Effect of Training Program on Real Earnings'))\n",
    "# save\n",
    "app1_all_results.to_csv(path+'/results/labor_results.csv', index=False)"
   ]
  },
  {
   "cell_type": "code",
   "execution_count": null,
   "id": "b35dba66-b7aa-4a7c-a51f-0e5d8560ecf6",
   "metadata": {},
   "outputs": [],
   "source": [
    "# plot the scores\n",
    "np.random.seed(0)\n",
    "sfr_scores.plot(xname='treatment', xlabel='Training Program', yname='Real Earnings', figsize=(10,5), dpi=300, s=30, jitter=True,\n",
    "                path=path+'/figures/', fname='sfr_scores_earnings.png')"
   ]
  },
  {
   "cell_type": "code",
   "execution_count": null,
   "id": "f2384d48-08d1-4637-b816-f73d640339d4",
   "metadata": {},
   "outputs": [],
   "source": [
    "# format the plot\n",
    "sfr_scores.figures['treatment'][1].set_xticklabels(['', 'Control', 'Treated', ''])\n",
    "sfr_scores.figures['treatment'][0]"
   ]
  },
  {
   "cell_type": "code",
   "execution_count": null,
   "id": "a3cf940d-b196-4369-8959-d6182957d1dc",
   "metadata": {},
   "outputs": [],
   "source": [
    "# save the plot\n",
    "sfr_scores.figures['treatment'][0].savefig(path+'/figures/sfr_scores_earnings.png')"
   ]
  },
  {
   "cell_type": "code",
   "execution_count": null,
   "id": "b7a8e1f8-4472-4be5-9d98-ddf6be0238b5",
   "metadata": {},
   "outputs": [],
   "source": [
    "sfr_annealing = sfr.anneal(share=0.1, n_boot=1000)\n",
    "sfr_annealing.plot(xname='treatment', yname='Effect on Real Earnings', xlabel='Training Program', dpi=300, ylim=[-1500, 3900], title='SFR: Annealing',\n",
    "                   path=path+'/figures/', fname='sfr_annealing_earnings.png')"
   ]
  },
  {
   "cell_type": "markdown",
   "id": "5a3b1d30-d0bc-4b04-9d03-2c7ee50799e7",
   "metadata": {},
   "source": [
    "### Microcredit"
   ]
  },
  {
   "cell_type": "code",
   "execution_count": null,
   "id": "19410a66-42d2-425e-baa4-343efa4cc161",
   "metadata": {},
   "outputs": [],
   "source": [
    "# load data from microcredit RCT (including the PPP standardizator)\n",
    "data = pd.read_csv(path+'/data/data_profit.csv')\n",
    "standardizer = pd.read_csv(path+'/data/data_profit_ppp.csv').iloc[0,0]\n",
    "# standardize the profit data according to USD PPP per 2 weeks\n",
    "data.profit = data.profit * standardizer\n",
    "# save data\n",
    "data_microcredit = data.copy()"
   ]
  },
  {
   "cell_type": "code",
   "execution_count": null,
   "id": "0ed661f8-4553-4c69-956d-8e8bcf918879",
   "metadata": {},
   "outputs": [],
   "source": [
    "# latex output for descriptives\n",
    "print(round(data.describe(), 2).T.to_latex(caption='Descriptive Statistics for the Microcredit Data'))"
   ]
  },
  {
   "cell_type": "code",
   "execution_count": null,
   "id": "dd0f4f03-7806-4c66-8d1c-7de6ca425331",
   "metadata": {},
   "outputs": [],
   "source": [
    "# check plot\n",
    "np.random.seed(0) # due to jitter\n",
    "fig, ax = plt.subplots(nrows=1, ncols=1, figsize = (10, 5), dpi=300) # define the plot layout\n",
    "# plot ols fit (plus jitter)\n",
    "ax.scatter(x=data.treatment + np.random.uniform(-0.1, 0.1, len(data.profit)), y=data.profit, color='grey', s=30)\n",
    "ax.title.set_text('Profit by Treatment Status')\n",
    "ax.set_xlabel('Microcredit Provision')\n",
    "ax.set_ylabel('Household Profit')\n",
    "plt.xticks([-0.5, 0, 1, 1.5], ['', 'Control', 'Treated', ''])\n",
    "plt.show()\n",
    "fig.savefig(path+'/figures/scatter_profit.png', bbox_inches='tight')"
   ]
  },
  {
   "cell_type": "code",
   "execution_count": null,
   "id": "01cc813e-38a8-4261-8185-076590bab568",
   "metadata": {},
   "outputs": [],
   "source": [
    "# run OLS, HUBER, RANSAC, SFR\n",
    "\n",
    "# specify model\n",
    "model = sm.OLS(endog=data.profit, exog=pd.DataFrame(sm.add_constant(data.treatment)))\n",
    "df = data.shape[0] - 2\n",
    "\n",
    "# ols fit\n",
    "ols_fit = model.fit()\n",
    "ols_param = ols_fit.params[1]\n",
    "ols_se = ols_fit.bse[1]\n",
    "ols_t = ols_param/ols_se\n",
    "ols_p = stats.t.sf(np.abs(ols_t), df) * 2\n",
    "ols_ci_up = ols_param + stats.t.ppf(1-0.05/2, df) * ols_se\n",
    "ols_ci_down = ols_param - stats.t.ppf(1-0.05/2, df) * ols_se\n",
    "# get predictions for ols\n",
    "ols_pred = pd.DataFrame(ols_fit.predict(sm.add_constant(data.treatment)), index=data.index, columns=['predictions'])\n",
    "\n",
    "# fit huber\n",
    "huber_fit = sm.RLM(endog=data.profit, exog=pd.DataFrame(sm.add_constant(data.treatment)), M=sm.robust.norms.HuberT()).fit()\n",
    "huber_param = huber_fit.params[1]\n",
    "huber_se = huber_fit.bse[1]\n",
    "huber_t = huber_param/huber_se\n",
    "huber_p = stats.t.sf(np.abs(huber_t), df) * 2\n",
    "huber_ci_up = huber_param + stats.t.ppf(1-0.05/2, df) * huber_se\n",
    "huber_ci_down = huber_param - stats.t.ppf(1-0.05/2, df) * huber_se\n",
    "# get predictions for huber\n",
    "huber_pred = pd.DataFrame(huber_fit.predict(sm.add_constant(data.treatment)), index=data.index, columns=['predictions'])\n",
    "\n",
    "# fit RANSAC\n",
    "ransac_fit = RANSACRegressor(random_state=0)\n",
    "ransac_fit.fit(X=pd.DataFrame(data.treatment), y=data.profit) # intercept is added by default in sklearn\n",
    "ransac_param = ransac_fit.estimator_.coef_[0]\n",
    "# get standard error for RANSAC via bootstrapping\n",
    "ransac_param_boot = []\n",
    "# loop over\n",
    "for boot_idx in range(1000):\n",
    "    # set seed\n",
    "    np.random.seed(boot_idx)\n",
    "    # get in bag indices\n",
    "    in_idx = np.random.choice(np.arange(data.shape[0], dtype=int), size=data.shape[0], replace=True)\n",
    "    # in bag observations\n",
    "    endog_in = data.profit[in_idx]\n",
    "    exog_in = data.treatment[in_idx]\n",
    "    # estimate ransac\n",
    "    ransac_fit_boot = RANSACRegressor(random_state=boot_idx)\n",
    "    ransac_fit_boot.fit(X=pd.DataFrame(exog_in), y=endog_in) # intercept is added by default in sklearn\n",
    "    ransac_param_boot.append(ransac_fit_boot.estimator_.coef_[0])\n",
    "# inference\n",
    "ransac_se = np.std(ransac_param_boot)\n",
    "ransac_t = ransac_param/ransac_se\n",
    "ransac_p = stats.t.sf(np.abs(ransac_t), df) * 2\n",
    "ransac_ci_up = ransac_param + stats.t.ppf(1-0.05/2, df) * ransac_se\n",
    "ransac_ci_down = ransac_param - stats.t.ppf(1-0.05/2, df) * ransac_se\n",
    "# get predictions from ransac\n",
    "ransac_pred = pd.DataFrame(ransac_fit.predict(X=pd.DataFrame(data.treatment)), index=data.index, columns=['predictions'])\n",
    "\n",
    "# fit from the sfr\n",
    "sfr = sf.SFR(linear_model=model, random_state=0)\n",
    "sfr_scores = sfr.score()\n",
    "sfr_fit = sfr.fit(n_boot=1000)\n",
    "sfr_param = sfr_fit.params[1]\n",
    "sfr_se = sfr_fit.stand_err[1]\n",
    "sfr_t = sfr_param/sfr_se\n",
    "sfr_p = stats.t.sf(np.abs(sfr_t), df) * 2\n",
    "sfr_ci_up = sfr_param + stats.t.ppf(1-0.05/2, df) * sfr_se\n",
    "sfr_ci_down = sfr_param - stats.t.ppf(1-0.05/2, df) * sfr_se\n",
    "# get predictions for sfr\n",
    "sfr_pred = pd.DataFrame(sfr_fit.fittedvalues, index=data.index, columns=['predictions'])"
   ]
  },
  {
   "cell_type": "code",
   "execution_count": null,
   "id": "1a9e79f3-1bf6-4b35-b11c-8a0b35a2e3e1",
   "metadata": {},
   "outputs": [],
   "source": [
    "# save scores for later plots\n",
    "scores_microcredit = sfr_scores.scores.copy()"
   ]
  },
  {
   "cell_type": "code",
   "execution_count": null,
   "id": "54e3babf-134f-43af-a18b-2ac143329f7e",
   "metadata": {},
   "outputs": [],
   "source": [
    "# combine results\n",
    "ols_results = pd.DataFrame({'Coef.': ols_param, 'Std.Err.': ols_se, 't': ols_t, 'P>|t|': ols_p, '[0.025': ols_ci_down, '0.975]': ols_ci_up}, index=['OLS'])\n",
    "huber_results = pd.DataFrame({'Coef.': huber_param, 'Std.Err.': huber_se, 't': huber_t, 'P>|t|': huber_p, '[0.025': huber_ci_down, '0.975]': huber_ci_up}, index=['HUBER'])\n",
    "ransac_results = pd.DataFrame({'Coef.': ransac_param, 'Std.Err.': ransac_se, 't': ransac_t, 'P>|t|': ransac_p, '[0.025': ransac_ci_down, '0.975]': ransac_ci_up}, index=['RANSAC'])\n",
    "sfr_results = pd.DataFrame({'Coef.': sfr_param, 'Std.Err.': sfr_se, 't': sfr_t, 'P>|t|': sfr_p, '[0.025': sfr_ci_down, '0.975]': sfr_ci_up}, index=['SFR'])"
   ]
  },
  {
   "cell_type": "code",
   "execution_count": null,
   "id": "b8563dce-9248-4b55-a66d-862c63edb08c",
   "metadata": {},
   "outputs": [],
   "source": [
    "# get latex\n",
    "app2_all_results = pd.concat([ols_results, huber_results, ransac_results, sfr_results])\n",
    "print(app2_all_results.to_latex(caption='Comparison of The Effect of Microcredit Provision on Household Profit'))\n",
    "# save\n",
    "app2_all_results.to_csv(path+'/results/microcredit_results.csv', index=False)"
   ]
  },
  {
   "cell_type": "code",
   "execution_count": null,
   "id": "e3934d3f-a3f8-4884-9596-a2e97dbb1323",
   "metadata": {},
   "outputs": [],
   "source": [
    "# plot the scores\n",
    "np.random.seed(0)\n",
    "sfr_scores.plot(xname='treatment', xlabel='Microcredit Provision', yname='Household Profit', figsize=(10,5), dpi=300, s=30, jitter=True,\n",
    "                path=path+'/figures/', fname='sfr_scores_profit.png')"
   ]
  },
  {
   "cell_type": "code",
   "execution_count": null,
   "id": "7186151e-5865-4e86-a7cb-32ce40985993",
   "metadata": {},
   "outputs": [],
   "source": [
    "# format the plot\n",
    "sfr_scores.figures['treatment'][1].set_xticklabels(['', 'Control', 'Treated', ''])\n",
    "sfr_scores.figures['treatment'][0]"
   ]
  },
  {
   "cell_type": "code",
   "execution_count": null,
   "id": "8b546fc0-330a-4946-98cb-abd3253b257c",
   "metadata": {},
   "outputs": [],
   "source": [
    "# save the plot\n",
    "sfr_scores.figures['treatment'][0].savefig(path+'/figures/sfr_scores_profit.png')"
   ]
  },
  {
   "cell_type": "code",
   "execution_count": null,
   "id": "cc56cac8-7b42-4725-a9a2-257018b6d397",
   "metadata": {},
   "outputs": [],
   "source": [
    "sfr_annealing = sfr.anneal(share=0.1, n_boot=1000)\n",
    "sfr_annealing.plot(xname='treatment', yname='Effect on Household Profit', xlabel='Microcredit Provision', dpi=300, title='SFR: Annealing',\n",
    "                   path=path+'/figures/', fname='sfr_annealing_profit.png')"
   ]
  },
  {
   "cell_type": "markdown",
   "id": "dd6a2009-cff9-474a-a63a-b54e1f60af91",
   "metadata": {},
   "source": [
    "### Charity"
   ]
  },
  {
   "cell_type": "code",
   "execution_count": null,
   "id": "c53aac72-7821-47d3-8be1-59ccd9c4afdc",
   "metadata": {},
   "outputs": [],
   "source": [
    "# load data from charity RCT\n",
    "data = pd.read_csv(path+'/data/data_charity.csv')\n",
    "# save data for later plotting\n",
    "data_charity = data.copy()"
   ]
  },
  {
   "cell_type": "code",
   "execution_count": null,
   "id": "413a1741-a2a7-4fbb-ac43-9073335993ea",
   "metadata": {},
   "outputs": [],
   "source": [
    "# latex output for descriptives\n",
    "print(round(data.describe(), 2).T.to_latex(caption='Descriptive Statistics for the Charity Data'))"
   ]
  },
  {
   "cell_type": "code",
   "execution_count": null,
   "id": "d59fa205-b87e-4a2a-808c-ce4ad1f9abe2",
   "metadata": {},
   "outputs": [],
   "source": [
    "# check plot\n",
    "fig, ax = plt.subplots(nrows=1, ncols=1, figsize = (10, 5), dpi=300) # define the plot layout\n",
    "# plot ols fit\n",
    "np.random.seed(0)\n",
    "ax.scatter(x=data.treatment + np.random.uniform(-0.1, 0.1, len(data.amount)), y=data.amount, color='grey', s=30)\n",
    "ax.title.set_text('Donation Amount by Treatment Status')\n",
    "ax.set_xlabel('Matching Grant')\n",
    "ax.set_ylabel('Donation Amount')\n",
    "plt.xticks([-0.5, 0, 1, 1.5], ['', 'Control', 'Treated', ''])\n",
    "plt.show()\n",
    "fig.savefig(path+'/figures/scatter_donation.png', bbox_inches='tight')"
   ]
  },
  {
   "cell_type": "code",
   "execution_count": null,
   "id": "d8eaf977-aefc-4822-aab0-7416f6a68230",
   "metadata": {},
   "outputs": [],
   "source": [
    "# run OLS, HUBER, RANSAC, SFR\n",
    "\n",
    "# specify model\n",
    "model = sm.OLS(endog=data.amount, exog=pd.DataFrame(sm.add_constant(data.treatment)))\n",
    "df = data.shape[0] - 2\n",
    "\n",
    "# ols fit\n",
    "ols_fit = model.fit()\n",
    "ols_param = ols_fit.params[1]\n",
    "ols_se = ols_fit.bse[1]\n",
    "ols_t = ols_param/ols_se\n",
    "ols_p = stats.t.sf(np.abs(ols_t), df) * 2\n",
    "ols_ci_up = ols_param + stats.t.ppf(1-0.05/2, df) * ols_se\n",
    "ols_ci_down = ols_param - stats.t.ppf(1-0.05/2, df) * ols_se\n",
    "# get predictions for ols\n",
    "ols_pred = pd.DataFrame(ols_fit.predict(sm.add_constant(data.treatment)), index=data.index, columns=['predictions'])\n",
    "\n",
    "# fit huber\n",
    "huber_fit = sm.RLM(endog=data.amount, exog=pd.DataFrame(sm.add_constant(data.treatment)), M=sm.robust.norms.HuberT()).fit()\n",
    "huber_param = huber_fit.params[1]\n",
    "huber_se = huber_fit.bse[1]\n",
    "huber_t = huber_param/huber_se\n",
    "huber_p = stats.t.sf(np.abs(huber_t), df) * 2\n",
    "huber_ci_up = huber_param + stats.t.ppf(1-0.05/2, df) * huber_se\n",
    "huber_ci_down = huber_param - stats.t.ppf(1-0.05/2, df) * huber_se\n",
    "# get predictions for huber\n",
    "huber_pred = pd.DataFrame(huber_fit.predict(sm.add_constant(data.treatment)), index=data.index, columns=['predictions'])\n",
    "\n",
    "# fit RANSAC\n",
    "ransac_fit = RANSACRegressor(random_state=0)\n",
    "ransac_fit.fit(X=pd.DataFrame(data.treatment), y=data.amount) # intercept is added by default in sklearn\n",
    "ransac_param = ransac_fit.estimator_.coef_[0]\n",
    "# get standard error for RANSAC via bootstrapping\n",
    "ransac_param_boot = []\n",
    "# loop over\n",
    "for boot_idx in range(1000):\n",
    "    # set seed\n",
    "    np.random.seed(boot_idx)\n",
    "    # get in bag indices\n",
    "    in_idx = np.random.choice(np.arange(data.shape[0], dtype=int), size=data.shape[0], replace=True)\n",
    "    # in bag observations\n",
    "    endog_in = data.amount[in_idx]\n",
    "    exog_in = data.treatment[in_idx]\n",
    "    # estimate ransac\n",
    "    ransac_fit_boot = RANSACRegressor(random_state=boot_idx)\n",
    "    ransac_fit_boot.fit(X=pd.DataFrame(exog_in), y=endog_in) # intercept is added by default in sklearn\n",
    "    ransac_param_boot.append(ransac_fit_boot.estimator_.coef_[0])\n",
    "# inference\n",
    "ransac_se = np.std(ransac_param_boot)\n",
    "ransac_t = ransac_param/ransac_se\n",
    "ransac_p = stats.t.sf(np.abs(ransac_t), df) * 2\n",
    "ransac_ci_up = ransac_param + stats.t.ppf(1-0.05/2, df) * ransac_se\n",
    "ransac_ci_down = ransac_param - stats.t.ppf(1-0.05/2, df) * ransac_se\n",
    "# get predictions from ransac\n",
    "ransac_pred = pd.DataFrame(ransac_fit.predict(X=pd.DataFrame(data.treatment)), index=data.index, columns=['predictions'])\n",
    "\n",
    "# fit from the sfr\n",
    "sfr = sf.SFR(linear_model=model, random_state=0)\n",
    "sfr_scores = sfr.score()\n",
    "sfr_fit = sfr.fit(n_boot=1000)\n",
    "sfr_param = sfr_fit.params[1]\n",
    "sfr_se = sfr_fit.stand_err[1]\n",
    "sfr_t = sfr_param/sfr_se\n",
    "sfr_p = stats.t.sf(np.abs(sfr_t), df) * 2\n",
    "sfr_ci_up = sfr_param + stats.t.ppf(1-0.05/2, df) * sfr_se\n",
    "sfr_ci_down = sfr_param - stats.t.ppf(1-0.05/2, df) * sfr_se\n",
    "# get predictions for sfr\n",
    "sfr_pred = pd.DataFrame(sfr_fit.fittedvalues, index=data.index, columns=['predictions'])"
   ]
  },
  {
   "cell_type": "code",
   "execution_count": null,
   "id": "fae6d399-60dd-4ef4-85fe-777b029154ac",
   "metadata": {},
   "outputs": [],
   "source": [
    "# save scores\n",
    "scores_charity = sfr_scores.scores.copy()"
   ]
  },
  {
   "cell_type": "code",
   "execution_count": null,
   "id": "83f51c34-6fb5-4ad6-9201-c4ad873b0b5d",
   "metadata": {},
   "outputs": [],
   "source": [
    "# combine results\n",
    "ols_results = pd.DataFrame({'Coef.': ols_param, 'Std.Err.': ols_se, 't': ols_t, 'P>|t|': ols_p, '[0.025': ols_ci_down, '0.975]': ols_ci_up}, index=['OLS'])\n",
    "huber_results = pd.DataFrame({'Coef.': huber_param, 'Std.Err.': huber_se, 't': huber_t, 'P>|t|': huber_p, '[0.025': huber_ci_down, '0.975]': huber_ci_up}, index=['HUBER'])\n",
    "ransac_results = pd.DataFrame({'Coef.': ransac_param, 'Std.Err.': ransac_se, 't': ransac_t, 'P>|t|': ransac_p, '[0.025': ransac_ci_down, '0.975]': ransac_ci_up}, index=['RANSAC'])\n",
    "sfr_results = pd.DataFrame({'Coef.': sfr_param, 'Std.Err.': sfr_se, 't': sfr_t, 'P>|t|': sfr_p, '[0.025': sfr_ci_down, '0.975]': sfr_ci_up}, index=['SFR'])"
   ]
  },
  {
   "cell_type": "code",
   "execution_count": null,
   "id": "e573e1d9-80d8-470b-95dc-c80211085514",
   "metadata": {},
   "outputs": [],
   "source": [
    "# get latex\n",
    "app3_all_results = pd.concat([ols_results, huber_results, ransac_results, sfr_results])\n",
    "print(app3_all_results.to_latex(caption='Comparison of The Effect of Matching Grants on Donation Amount'))\n",
    "# save\n",
    "app3_all_results.to_csv(path+'/results/charity_results.csv', index=False)"
   ]
  },
  {
   "cell_type": "code",
   "execution_count": null,
   "id": "04646a05-862c-49f3-9f05-96f1645054c8",
   "metadata": {},
   "outputs": [],
   "source": [
    "# plot the scores\n",
    "np.random.seed(0)\n",
    "sfr_scores.plot(xname='treatment', xlabel='Matching Grant', yname='Donation Amount', figsize=(10,5), dpi=300, s=30, jitter=True,\n",
    "                path=path+'/figures/', fname='sfr_scores_amount.png')"
   ]
  },
  {
   "cell_type": "code",
   "execution_count": null,
   "id": "3669fe57-9e97-4c7d-9f08-6709651d136f",
   "metadata": {},
   "outputs": [],
   "source": [
    "# format the plot\n",
    "sfr_scores.figures['treatment'][1].set_xticklabels(['', 'Control', 'Treated', ''])\n",
    "sfr_scores.figures['treatment'][0]"
   ]
  },
  {
   "cell_type": "code",
   "execution_count": null,
   "id": "1d8c770e-1d95-4603-9d54-6593481f03cf",
   "metadata": {},
   "outputs": [],
   "source": [
    "# save the plot\n",
    "sfr_scores.figures['treatment'][0].savefig(path+'/figures/sfr_scores_amount.png')"
   ]
  },
  {
   "cell_type": "code",
   "execution_count": null,
   "id": "e1dc36a5-992d-476f-85ab-d0d065269a13",
   "metadata": {},
   "outputs": [],
   "source": [
    "sfr_annealing = sfr.anneal(share=0.1, n_boot=1000)\n",
    "sfr_annealing.plot(xname='treatment', yname='Effect on Donation Amount', xlabel='Matching Grant', dpi=300, ylim=[-0.5, 0.5], title='SFR: Annealing',\n",
    "                   path=path+'/figures/', fname='sfr_annealing_amount.png')"
   ]
  },
  {
   "cell_type": "markdown",
   "id": "9f306dea-3831-40f1-9882-287c52899e06",
   "metadata": {},
   "source": [
    "## Summary"
   ]
  },
  {
   "cell_type": "code",
   "execution_count": null,
   "id": "4c225523-ada5-472c-a804-07bfa340ac2b",
   "metadata": {},
   "outputs": [],
   "source": [
    "fig, (ax1, ax2, ax3) = plt.subplots(nrows=1, ncols=3, figsize = (22.5, 5), dpi=300) # define the plot layout\n",
    "fig.subplots_adjust(wspace=0.25)\n",
    "\n",
    "# plot amip fit\n",
    "np.random.seed(0)\n",
    "# lalonde data\n",
    "np.random.seed(0)\n",
    "lalonde_plot = ax1.scatter(x=data_lalonde.treatment + np.random.uniform(-0.1, 0.1, len(data_lalonde.re78)),\n",
    "                               y=data_lalonde.re78, c=scores_lalonde, cmap='RdYlGn', s=30)\n",
    "ax1.title.set_text(\"Labor Data\")\n",
    "ax1.set_xlabel('Training Program')\n",
    "ax1.set_ylabel('Real Earnings')\n",
    "ax1.set_xticks([-0.5, 0, 1, 1.5])\n",
    "ax1.set_xticklabels(['', 'Control', 'Treated', ''])\n",
    "# microcredit data\n",
    "microcredit_plot = ax2.scatter(x=data_microcredit.treatment + np.random.uniform(-0.1, 0.1, len(data_microcredit.profit)),\n",
    "                               y=data_microcredit.profit, c=scores_microcredit, cmap='RdYlGn', s=30)\n",
    "ax2.title.set_text(\"Microcredit Data\")\n",
    "ax2.set_xlabel('Microcredit Provision')\n",
    "ax2.set_ylabel('Household Profit')\n",
    "ax2.set_xticks([-0.5, 0, 1, 1.5])\n",
    "ax2.set_xticklabels(['', 'Control', 'Treated', ''])\n",
    "# add legend\n",
    "legend = ax2.legend(*microcredit_plot.legend_elements(), title=\"Reliability Score\",\n",
    "                    bbox_to_anchor=(-1.25, -0.3, 3.5, .102), loc=3,\n",
    "                    ncol=12, mode=\"expand\", borderaxespad=0., fancybox=True, shadow=True)\n",
    "ax2.add_artist(legend)\n",
    "# charity data\n",
    "np.random.seed(0)\n",
    "charity_plot = ax3.scatter(x=data_charity.treatment + np.random.uniform(-0.1, 0.1, len(data_charity.amount)),\n",
    "                           y=data_charity.amount, c=scores_charity, cmap='RdYlGn', s=30)\n",
    "ax3.title.set_text(\"Charity Data\")\n",
    "ax3.set_xlabel('Matching Grant')\n",
    "ax3.set_ylabel('Donation Amount')\n",
    "ax3.set_xticks([-0.5, 0, 1, 1.5])\n",
    "ax3.set_xticklabels(['', 'Control', 'Treated', ''])\n",
    "\n",
    "plt.show()\n",
    "fig.savefig(path+'/figures/scores_all.png', bbox_inches='tight')"
   ]
  },
  {
   "cell_type": "code",
   "execution_count": null,
   "id": "c77fd3df-4b42-4601-a266-f4fe4eb6fedf",
   "metadata": {},
   "outputs": [],
   "source": [
    "# get latex\n",
    "all_results = pd.concat([app1_all_results.loc[['OLS', 'SFR'], :], app2_all_results.loc[['OLS', 'SFR'], :], app3_all_results.loc[['OLS', 'SFR'], :]])\n",
    "print(all_results.to_latex(caption='Fitting: Comparison for Labor, Microcredit and Charity Data'))\n",
    "# save\n",
    "all_results.to_csv(path+'/results/all_emp_results.csv', index=False)"
   ]
  },
  {
   "cell_type": "code",
   "execution_count": null,
   "id": "e6c5420c-7455-46f8-be14-092b1455f6af",
   "metadata": {},
   "outputs": [],
   "source": []
  }
 ],
 "metadata": {
  "kernelspec": {
   "display_name": "Python 3 (ipykernel)",
   "language": "python",
   "name": "python3"
  },
  "language_info": {
   "codemirror_mode": {
    "name": "ipython",
    "version": 3
   },
   "file_extension": ".py",
   "mimetype": "text/x-python",
   "name": "python",
   "nbconvert_exporter": "python",
   "pygments_lexer": "ipython3",
   "version": "3.8.8"
  }
 },
 "nbformat": 4,
 "nbformat_minor": 5
}
