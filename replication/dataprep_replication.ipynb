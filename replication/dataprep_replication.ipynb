{
 "cells": [
  {
   "cell_type": "markdown",
   "id": "d7c08972-6618-4e69-a082-e577c6b16478",
   "metadata": {},
   "source": [
    "# Replication Notebook for Data Preparation: Sample Fit Reliability"
   ]
  },
  {
   "cell_type": "markdown",
   "id": "e2c3f698-2f4f-480f-ae4e-81c1a462692d",
   "metadata": {},
   "source": [
    "Gabriel Okasa and Kenneth A. Younge"
   ]
  },
  {
   "cell_type": "code",
   "execution_count": null,
   "id": "7ed5d57e-5a0b-4606-a14e-ced24c664127",
   "metadata": {},
   "outputs": [],
   "source": [
    "# Python version 3.8.8\n",
    "# get current working directory\n",
    "path = %pwd"
   ]
  },
  {
   "cell_type": "markdown",
   "id": "fe25a2fe-f2ad-491e-9f8b-84a17da75559",
   "metadata": {},
   "source": [
    "## Labor Data"
   ]
  },
  {
   "cell_type": "code",
   "execution_count": null,
   "id": "3cc94e92-8b6a-4b19-b157-518cfe668f61",
   "metadata": {},
   "outputs": [],
   "source": [
    "# run R script for labor data prep (LaLonde)\n",
    "! Rscript dataprep_labor.R {path}"
   ]
  },
  {
   "cell_type": "markdown",
   "id": "4e74aebb-fea9-4b45-9579-1e49d3b2758f",
   "metadata": {},
   "source": [
    "## Microcredit Data"
   ]
  },
  {
   "cell_type": "code",
   "execution_count": null,
   "id": "5905d2a7-154c-4aaf-9088-1fe975ce0d0e",
   "metadata": {},
   "outputs": [],
   "source": [
    "# run R script for microcredit data prep\n",
    "! Rscript dataprep_microcredit.R {path}"
   ]
  },
  {
   "cell_type": "markdown",
   "id": "fdcf0f86-9145-47e2-9a28-e5a907a64ec8",
   "metadata": {},
   "source": [
    "## Charity Data"
   ]
  },
  {
   "cell_type": "code",
   "execution_count": null,
   "id": "8e310857-81d6-4f06-a2ea-3c3d2156718c",
   "metadata": {},
   "outputs": [],
   "source": [
    "# run R script for microcredit data prep\n",
    "! Rscript dataprep_charity.R {path}"
   ]
  },
  {
   "cell_type": "code",
   "execution_count": null,
   "id": "6da7576a-34ab-4d91-ae01-706731170edf",
   "metadata": {},
   "outputs": [],
   "source": []
  }
 ],
 "metadata": {
  "kernelspec": {
   "display_name": "Python 3 (ipykernel)",
   "language": "python",
   "name": "python3"
  },
  "language_info": {
   "codemirror_mode": {
    "name": "ipython",
    "version": 3
   },
   "file_extension": ".py",
   "mimetype": "text/x-python",
   "name": "python",
   "nbconvert_exporter": "python",
   "pygments_lexer": "ipython3",
   "version": "3.8.8"
  }
 },
 "nbformat": 4,
 "nbformat_minor": 5
}
